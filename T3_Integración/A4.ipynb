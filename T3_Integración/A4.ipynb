{
 "cells": [
  {
   "cell_type": "markdown",
   "metadata": {},
   "source": [
    "#### Gausss-Legendre\n",
    "\n",
    "$$\\bar{a}= \\int_{0}^{1} e^{4x}dx = \\frac{1}{4}e^{4}- \\frac{1}{4}$$\n",
    "\n",
    "Calcule la integral usando el programa para Gauss Legendre y, para un $n$ dado, sea $(n)$ el resultado. Intenta encontrar, experimentalmente, qué tan grande tienes que elegir $n$ para\n",
    "\n",
    "$$ |a − a(n)|  \\leqslant \\epsilon$$\n",
    "\n",
    "donde $\\epsilon=\\frac{1}{100}$"
   ]
  },
  {
   "cell_type": "code",
   "execution_count": 1,
   "metadata": {},
   "outputs": [
    {
     "name": "stdout",
     "output_type": "stream",
     "text": [
      "n = 2, a(n) = 12.887344958701334, error = 0.512192549584725\n",
      "n = 3, a(n) = 13.382587166354705, error = 0.01695034193135392\n",
      "n = 4, a(n) = 13.399237050081112, error = 0.00030045820494706277\n",
      "El valor de n necesario para que |a - a(n)| <= 0.01 es: 4\n"
     ]
    }
   ],
   "source": [
    "import numpy as np\n",
    "from numpy.polynomial.legendre import leggauss\n",
    "\n",
    "# Definimos la función e^(4x)\n",
    "def f(x):\n",
    "    return np.exp(4 * x)\n",
    "\n",
    "# Integral exacta\n",
    "a_exact = (1/4) * (np.exp(4) - 1)\n",
    "\n",
    "# Función que implementa la cuadratura de Gauss-Legendre\n",
    "def gauss_legendre_integration(n):\n",
    "    # Obtener las raíces (xi) y los pesos (wi) de los polinomios de Legendre\n",
    "    xi, wi = leggauss(n)\n",
    "    # Transformamos el intervalo de [-1, 1] a [0, 1]\n",
    "    x_mapped = 0.5 * (xi + 1)  # Mapeo de [-1, 1] a [0, 1]\n",
    "    w_mapped = 0.5 * wi        # Ajustamos los pesos para el intervalo [0, 1]\n",
    "    # Calculamos la integral aproximada\n",
    "    integral_approx = np.sum(w_mapped * f(x_mapped))\n",
    "    return integral_approx\n",
    "\n",
    "# Parámetros iniciales\n",
    "epsilon = 0.01  # Tolerancia\n",
    "n = 2  # Comenzamos con n=2\n",
    "error = epsilon + 1  # Inicializamos error con un valor mayor que epsilon\n",
    "\n",
    "# Bucle para encontrar el valor adecuado de n\n",
    "while error > epsilon:\n",
    "    # Calcular la integral usando Gauss-Legendre con n nodos\n",
    "    a_n = gauss_legendre_integration(n)\n",
    "    # Calcular el error\n",
    "    error = np.abs(a_exact - a_n)\n",
    "    \n",
    "    # Imprimir el valor de n y el error actual\n",
    "    print(f'n = {n}, a(n) = {a_n}, error = {error}')\n",
    "    \n",
    "    # Incrementar n si el error sigue siendo mayor que la tolerancia\n",
    "    if error > epsilon:\n",
    "        n += 1\n",
    "\n",
    "# Resultado final\n",
    "print(f'El valor de n necesario para que |a - a(n)| <= {epsilon} es: {n}')\n"
   ]
  },
  {
   "cell_type": "markdown",
   "metadata": {},
   "source": [
    "Repita con $\\epsilon=\\frac{1}{1000}$"
   ]
  },
  {
   "cell_type": "code",
   "execution_count": 2,
   "metadata": {},
   "outputs": [
    {
     "name": "stdout",
     "output_type": "stream",
     "text": [
      "n = 2, a(n) = 12.887344958701334, error = 0.512192549584725\n",
      "n = 3, a(n) = 13.382587166354705, error = 0.01695034193135392\n",
      "n = 4, a(n) = 13.399237050081112, error = 0.00030045820494706277\n",
      "El valor de n necesario para que |a - a(n)| <= 0.001 es: 4\n"
     ]
    }
   ],
   "source": [
    "import numpy as np\n",
    "from numpy.polynomial.legendre import leggauss\n",
    "\n",
    "# Definimos la función e^(4x)\n",
    "def f(x):\n",
    "    return np.exp(4 * x)\n",
    "\n",
    "# Integral exacta\n",
    "a_exact = (1/4) * (np.exp(4) - 1)\n",
    "\n",
    "# Función que implementa la cuadratura de Gauss-Legendre\n",
    "def gauss_legendre_integration(n):\n",
    "    # Obtener las raíces (xi) y los pesos (wi) de los polinomios de Legendre\n",
    "    xi, wi = leggauss(n)\n",
    "    # Transformamos el intervalo de [-1, 1] a [0, 1]\n",
    "    x_mapped = 0.5 * (xi + 1)  # Mapeo de [-1, 1] a [0, 1]\n",
    "    w_mapped = 0.5 * wi        # Ajustamos los pesos para el intervalo [0, 1]\n",
    "    # Calculamos la integral aproximada\n",
    "    integral_approx = np.sum(w_mapped * f(x_mapped))\n",
    "    return integral_approx\n",
    "\n",
    "# Parámetros iniciales\n",
    "epsilon = 0.001  # Tolerancia\n",
    "n = 2  # Comenzamos con n=2\n",
    "error = epsilon + 1  # Inicializamos error con un valor mayor que epsilon\n",
    "\n",
    "# Bucle para encontrar el valor adecuado de n\n",
    "while error > epsilon:\n",
    "    # Calcular la integral usando Gauss-Legendre con n nodos\n",
    "    a_n = gauss_legendre_integration(n)\n",
    "    # Calcular el error\n",
    "    error = np.abs(a_exact - a_n)\n",
    "    \n",
    "    # Imprimir el valor de n y el error actual\n",
    "    print(f'n = {n}, a(n) = {a_n}, error = {error}')\n",
    "    \n",
    "    # Incrementar n si el error sigue siendo mayor que la tolerancia\n",
    "    if error > epsilon:\n",
    "        n += 1\n",
    "\n",
    "# Resultado final\n",
    "print(f'El valor de n necesario para que |a - a(n)| <= {epsilon} es: {n}')\n"
   ]
  },
  {
   "cell_type": "markdown",
   "metadata": {},
   "source": [
    "Repita con $\\epsilon=1/10000$"
   ]
  },
  {
   "cell_type": "code",
   "execution_count": 3,
   "metadata": {},
   "outputs": [
    {
     "name": "stdout",
     "output_type": "stream",
     "text": [
      "n = 2, a(n) = 12.887344958701334, error = 0.512192549584725\n",
      "n = 3, a(n) = 13.382587166354705, error = 0.01695034193135392\n",
      "n = 4, a(n) = 13.399237050081112, error = 0.00030045820494706277\n",
      "n = 5, a(n) = 13.399534189336915, error = 3.318949143960026e-06\n",
      "El valor de n necesario para que |a - a(n)| <= 0.0001 es: 5\n"
     ]
    }
   ],
   "source": [
    "import numpy as np\n",
    "from numpy.polynomial.legendre import leggauss\n",
    "\n",
    "# Definimos la función e^(4x)\n",
    "def f(x):\n",
    "    return np.exp(4 * x)\n",
    "\n",
    "# Integral exacta\n",
    "a_exact = (1/4) * (np.exp(4) - 1)\n",
    "\n",
    "# Función que implementa la cuadratura de Gauss-Legendre\n",
    "def gauss_legendre_integration(n):\n",
    "    # Obtener las raíces (xi) y los pesos (wi) de los polinomios de Legendre\n",
    "    xi, wi = leggauss(n)\n",
    "    # Transformamos el intervalo de [-1, 1] a [0, 1]\n",
    "    x_mapped = 0.5 * (xi + 1)  # Mapeo de [-1, 1] a [0, 1]\n",
    "    w_mapped = 0.5 * wi        # Ajustamos los pesos para el intervalo [0, 1]\n",
    "    # Calculamos la integral aproximada\n",
    "    integral_approx = np.sum(w_mapped * f(x_mapped))\n",
    "    return integral_approx\n",
    "\n",
    "# Parámetros iniciales\n",
    "epsilon = 0.0001  # Tolerancia\n",
    "n = 2  # Comenzamos con n=2\n",
    "error = epsilon + 1  # Inicializamos error con un valor mayor que epsilon\n",
    "\n",
    "# Bucle para encontrar el valor adecuado de n\n",
    "while error > epsilon:\n",
    "    # Calcular la integral usando Gauss-Legendre con n nodos\n",
    "    a_n = gauss_legendre_integration(n)\n",
    "    # Calcular el error\n",
    "    error = np.abs(a_exact - a_n)\n",
    "    \n",
    "    # Imprimir el valor de n y el error actual\n",
    "    print(f'n = {n}, a(n) = {a_n}, error = {error}')\n",
    "    \n",
    "    # Incrementar n si el error sigue siendo mayor que la tolerancia\n",
    "    if error > epsilon:\n",
    "        n += 1\n",
    "\n",
    "# Resultado final\n",
    "print(f'El valor de n necesario para que |a - a(n)| <= {epsilon} es: {n}')\n"
   ]
  },
  {
   "cell_type": "markdown",
   "metadata": {},
   "source": [
    "Trata de averiguar, en general, qué tan grande tiene que ser n para\n",
    "\n",
    "$$ |a − a(n)|  \\leqslant \\epsilon$$\n",
    "\n",
    "para un valor dado de $\\epsilon$"
   ]
  },
  {
   "cell_type": "markdown",
   "metadata": {},
   "source": [
    "Para valores grandes de $\\epsilon$, como $\\epsilon=0.1$, el valor de $n$ requerido será pequeño.\n",
    "Para valores más pequeños de $\\epsilon$, como $\\epsilon =0.001$, el valor de $n$ aumentará de manera moderada debido a la rápida convergencia del método de Gauss-Legendre.\n",
    "Este experimento te permitirá observar cómo $n$ cambia en función de $\\epsilon$ y determinar una relación aproximada entre ambos."
   ]
  },
  {
   "cell_type": "code",
   "execution_count": 4,
   "metadata": {},
   "outputs": [
    {
     "name": "stdout",
     "output_type": "stream",
     "text": [
      "\n",
      "Para epsilon = 0.1:\n",
      "n = 2, a(n) = 12.887344958701334, error = 0.512192549584725\n",
      "n = 3, a(n) = 13.382587166354705, error = 0.01695034193135392\n",
      "El valor de n necesario para epsilon = 0.1 es: 3\n",
      "\n",
      "Para epsilon = 0.01:\n",
      "n = 2, a(n) = 12.887344958701334, error = 0.512192549584725\n",
      "n = 3, a(n) = 13.382587166354705, error = 0.01695034193135392\n",
      "n = 4, a(n) = 13.399237050081112, error = 0.00030045820494706277\n",
      "El valor de n necesario para epsilon = 0.01 es: 4\n",
      "\n",
      "Para epsilon = 0.001:\n",
      "n = 2, a(n) = 12.887344958701334, error = 0.512192549584725\n",
      "n = 3, a(n) = 13.382587166354705, error = 0.01695034193135392\n",
      "n = 4, a(n) = 13.399237050081112, error = 0.00030045820494706277\n",
      "El valor de n necesario para epsilon = 0.001 es: 4\n",
      "\n",
      "Para epsilon = 0.0001:\n",
      "n = 2, a(n) = 12.887344958701334, error = 0.512192549584725\n",
      "n = 3, a(n) = 13.382587166354705, error = 0.01695034193135392\n",
      "n = 4, a(n) = 13.399237050081112, error = 0.00030045820494706277\n",
      "n = 5, a(n) = 13.399534189336915, error = 3.318949143960026e-06\n",
      "El valor de n necesario para epsilon = 0.0001 es: 5\n"
     ]
    }
   ],
   "source": [
    "import numpy as np\n",
    "from numpy.polynomial.legendre import leggauss\n",
    "\n",
    "# Definimos la función e^(4x)\n",
    "def f(x):\n",
    "    return np.exp(4 * x)\n",
    "\n",
    "# Integral exacta\n",
    "a_exact = (1/4) * (np.exp(4) - 1)\n",
    "\n",
    "# Función que implementa la cuadratura de Gauss-Legendre\n",
    "def gauss_legendre_integration(n):\n",
    "    # Obtener las raíces (xi) y los pesos (wi) de los polinomios de Legendre\n",
    "    xi, wi = leggauss(n)\n",
    "    # Transformamos el intervalo de [-1, 1] a [0, 1]\n",
    "    x_mapped = 0.5 * (xi + 1)  # Mapeo de [-1, 1] a [0, 1]\n",
    "    w_mapped = 0.5 * wi        # Ajustamos los pesos para el intervalo [0, 1]\n",
    "    # Calculamos la integral aproximada\n",
    "    integral_approx = np.sum(w_mapped * f(x_mapped))\n",
    "    return integral_approx\n",
    "\n",
    "# Función para encontrar n dado epsilon\n",
    "def find_n_for_epsilon(epsilon):\n",
    "    n = 2  # Comenzamos con n=2\n",
    "    error = epsilon + 1  # Inicializamos error con un valor mayor que epsilon\n",
    "\n",
    "    # Bucle para encontrar el valor adecuado de n\n",
    "    while error > epsilon:\n",
    "        # Calcular la integral usando Gauss-Legendre con n nodos\n",
    "        a_n = gauss_legendre_integration(n)\n",
    "        # Calcular el error\n",
    "        error = np.abs(a_exact - a_n)\n",
    "        \n",
    "        # Imprimir el valor de n y el error actual\n",
    "        print(f'n = {n}, a(n) = {a_n}, error = {error}')\n",
    "        \n",
    "        # Incrementar n si el error sigue siendo mayor que la tolerancia\n",
    "        if error > epsilon:\n",
    "            n += 1\n",
    "\n",
    "    # Retornar el valor de n que cumple con la condición\n",
    "    return n\n",
    "\n",
    "# Probar con diferentes valores de epsilon\n",
    "epsilon_values = [0.1, 0.01, 0.001, 0.0001]\n",
    "\n",
    "for epsilon in epsilon_values:\n",
    "    print(f'\\nPara epsilon = {epsilon}:')\n",
    "    n_needed = find_n_for_epsilon(epsilon)\n",
    "    print(f'El valor de n necesario para epsilon = {epsilon} es: {n_needed}')\n"
   ]
  }
 ],
 "metadata": {
  "kernelspec": {
   "display_name": "Python 3",
   "language": "python",
   "name": "python3"
  },
  "language_info": {
   "codemirror_mode": {
    "name": "ipython",
    "version": 3
   },
   "file_extension": ".py",
   "mimetype": "text/x-python",
   "name": "python",
   "nbconvert_exporter": "python",
   "pygments_lexer": "ipython3",
   "version": "3.10.5"
  }
 },
 "nbformat": 4,
 "nbformat_minor": 2
}
