{
 "cells": [
  {
   "cell_type": "markdown",
   "metadata": {},
   "source": [
    "Usando Gauss Legendre, calcular una aproximación de la siguiente integral\n",
    "\n",
    "$$I=\\int _{-\\infty} ^{\\infty} e^{-x^2} dx $$\n"
   ]
  },
  {
   "cell_type": "markdown",
   "metadata": {},
   "source": [
    "a) Representa la función $e^{x^2}$ para $x$ que va de $[−10,10]$ y usa la gráfica para argumentar que\n",
    "\n",
    "$$ \\int _{-\\infty} ^{\\infty} e^{-x^2} dx = 2\\int _{0} ^{\\infty} e^{-x^2} dx$$"
   ]
  },
  {
   "cell_type": "code",
   "execution_count": 2,
   "metadata": {},
   "outputs": [
    {
     "data": {
      "image/png": "[encoded data removed]",
      "text/plain": [
       "<Figure size 640x480 with 1 Axes>"
      ]
     },
     "metadata": {},
     "output_type": "display_data"
    }
   ],
   "source": [
    "import numpy as np\n",
    "import matplotlib.pyplot as plt\n",
    "\n",
    "# Definir la función e^{-x^2}\n",
    "def f(x):\n",
    "    return np.exp(-x**2)\n",
    "\n",
    "# Valores de x en el intervalo [-10, 10]\n",
    "x = np.linspace(-10, 10, 400)\n",
    "\n",
    "# Calcular los valores de la función\n",
    "y = f(x)\n",
    "\n",
    "# Graficar la función\n",
    "plt.plot(x, y, label=r'$e^{-x^2}$', color='blue')\n",
    "\n",
    "plt.title(r'$f(x)=e^{-x^2}$ ')\n",
    "plt.xlabel('x')\n",
    "plt.ylabel(r'$e^{-x^2}$')\n",
    "\n",
    "plt.show()\n"
   ]
  },
  {
   "cell_type": "markdown",
   "metadata": {},
   "source": [
    "En la gráfica podemos podemos observar que es una función simétrica respecto al eje $y$, en el intervalo $[-\\infty, 0]$ es igual a $[0, \\infty]$, entonces para $f(x)=e^{-x^2}$ en el intervalo $[-\\infty , \\infty]$ es igual a $2[0, \\infty]$"
   ]
  },
  {
   "cell_type": "markdown",
   "metadata": {},
   "source": [
    "b) Sea $T(n, L)$ la aproximación de la integral\n",
    "$$2 \\int _{0} ^{L} e^{-x^2}$$\n",
    "calculado por el método de Gauss Legendre utilizando $n$ puntos computacionales. Desarrollar un programa que calcule el valor de $T$ para $n$ y $L$."
   ]
  },
  {
   "cell_type": "code",
   "execution_count": 5,
   "metadata": {},
   "outputs": [
    {
     "name": "stdout",
     "output_type": "stream",
     "text": [
      "El valor de T(10, 2.0) es: 1.7641627815242156\n"
     ]
    }
   ],
   "source": [
    "import numpy as np\n",
    "from numpy.polynomial.legendre import leggauss\n",
    "\n",
    "# Definir la función e^(-x^2)\n",
    "def f(x):\n",
    "    return np.exp(-x**2)\n",
    "\n",
    "n = 10  # Número de puntos computacionales\n",
    "L = 2.0  # Límite superior de integración\n",
    "\n",
    "# Función para calcular la integral con el método de Gauss-Legendre\n",
    "def gauss(f, L, n):\n",
    "    # Obtener los puntos y pesos de Gauss-Legendre en el intervalo [-1, 1]\n",
    "    xi, wi = leggauss(n)\n",
    "    \n",
    "    # Transformar los puntos xi al intervalo [0, L]\n",
    "    # x = (L/2) * (xi + 1)\n",
    "    x_mapped = 0.5 * L * (xi + 1)\n",
    "    \n",
    "    # La integral se ajusta con el factor de escala L/2\n",
    "    integral = 0.5 * L * np.sum(wi * f(x_mapped))\n",
    "    \n",
    "    return integral\n",
    "\n",
    "# Función que calcula T(n, L)\n",
    "def T(n, L):\n",
    "    # Calcular la integral en el intervalo [0, L]\n",
    "    integral_value = gauss(f, L, n)\n",
    "    \n",
    "    # Multiplicar por 2 para obtener T(n, L)\n",
    "    return 2 * integral_value\n",
    "\n",
    "# Calcular T(n, L)\n",
    "resultado = T(n, L)\n",
    "print(f\"El valor de T({n}, {L}) es: {resultado}\")\n"
   ]
  },
  {
   "cell_type": "markdown",
   "metadata": {},
   "source": [
    "c) Amplíe el programa desarrollado en (b) para escribir valores de $T(n, L)$ en una tabla con filas correspondientes a $n = 100, 200, . . . , 500$ y columnas correspondientes a $L = 2, 4, 6, 8, 10$"
   ]
  },
  {
   "cell_type": "code",
   "execution_count": 8,
   "metadata": {},
   "outputs": [
    {
     "name": "stdout",
     "output_type": "stream",
     "text": [
      "   n \\ L |      2 |      4 |      6 |      8 |     10\n",
      "-----------------------------------------------------\n",
      "     100 | 1.7642 | 1.7725 | 1.7725 | 1.7725 | 1.7725\n",
      "     200 | 1.7642 | 1.7725 | 1.7725 | 1.7725 | 1.7725\n",
      "     300 | 1.7642 | 1.7725 | 1.7725 | 1.7725 | 1.7725\n",
      "     400 | 1.7642 | 1.7725 | 1.7725 | 1.7725 | 1.7725\n",
      "     500 | 1.7642 | 1.7725 | 1.7725 | 1.7725 | 1.7725\n"
     ]
    }
   ],
   "source": [
    "import numpy as np\n",
    "from numpy.polynomial.legendre import leggauss\n",
    "\n",
    "# Definir la función e^(-x^2)\n",
    "def f(x):\n",
    "    return np.exp(-x**2)\n",
    "\n",
    "# Función para calcular la integral con el método de Gauss-Legendre\n",
    "def gauss(f, L, n):\n",
    "    # Obtener los puntos y pesos de Gauss-Legendre en el intervalo [-1, 1]\n",
    "    xi, wi = leggauss(n)\n",
    "    \n",
    "    # Transformar los puntos xi al intervalo [0, L]\n",
    "    x_mapped = 0.5 * L * (xi + 1)\n",
    "    \n",
    "    # La integral se ajusta con el factor de escala L/2\n",
    "    integral = 0.5 * L * np.sum(wi * f(x_mapped))\n",
    "    \n",
    "    return integral\n",
    "\n",
    "# Función que calcula T(n, L)\n",
    "def T(n, L):\n",
    "    # Calcular la integral en el intervalo [0, L]\n",
    "    integral_value = gauss(f, L, n)\n",
    "    \n",
    "    # Multiplicar por 2 para obtener T(n, L)\n",
    "    return 2 * integral_value\n",
    "\n",
    "# Valores de n y L\n",
    "n_values = [100, 200, 300, 400, 500]\n",
    "L_values = [2, 4, 6, 8, 10]\n",
    "\n",
    "# tabla de resultados\n",
    "header = \"{:>8} | \".format(\"n \\\\ L\") + \" | \".join([f\"{L:>6}\" for L in L_values])\n",
    "separator = \"-\" * len(header)\n",
    "print(header)\n",
    "print(separator)\n",
    "\n",
    "# Calcular y mostrar T(n, L) \n",
    "for n in n_values:\n",
    "    row = [f\"{n:>8}\"]  # Comenzamos con el valor de n\n",
    "    for L in L_values:\n",
    "        result = T(n, L)\n",
    "        row.append(f\"{result:>6.4f}\")  # Formatear el resultado\n",
    "    print(\" | \".join(row))\n"
   ]
  },
  {
   "cell_type": "markdown",
   "metadata": {},
   "source": [
    "d) Amplíe el programa para imprimir también una tabla de los errores en $T(n, L)$ para los mismos valores $n$ y $L$ que en (c). El valor exacto de la integral es $\\sqrt{2}$."
   ]
  },
  {
   "cell_type": "code",
   "execution_count": 10,
   "metadata": {},
   "outputs": [
    {
     "name": "stdout",
     "output_type": "stream",
     "text": [
      "Tabla de T(n, L):\n",
      "   n \\ L |      2 |      4 |      6 |      8 |     10\n",
      "-----------------------------------------------------\n",
      "     100 | 1.7642 | 1.7725 | 1.7725 | 1.7725 | 1.7725\n",
      "     200 | 1.7642 | 1.7725 | 1.7725 | 1.7725 | 1.7725\n",
      "     300 | 1.7642 | 1.7725 | 1.7725 | 1.7725 | 1.7725\n",
      "     400 | 1.7642 | 1.7725 | 1.7725 | 1.7725 | 1.7725\n",
      "     500 | 1.7642 | 1.7725 | 1.7725 | 1.7725 | 1.7725\n",
      "\n",
      "Tabla de errores (|T(n, L) - sqrt(pi)|):\n",
      "   n \\ L |      2 |      4 |      6 |      8 |     10\n",
      "-----------------------------------------------------\n",
      "     100 | 8.2911e-03 | 2.7326e-08 | 1.9762e-14 | 2.8866e-14 | 3.8192e-14\n",
      "     200 | 8.2911e-03 | 2.7326e-08 | 2.4869e-14 | 3.5527e-14 | 4.5963e-14\n",
      "     300 | 8.2911e-03 | 2.7326e-08 | 1.2879e-14 | 1.9318e-14 | 2.5091e-14\n",
      "     400 | 8.2911e-03 | 2.7326e-08 | 9.4147e-14 | 1.3878e-13 | 1.8274e-13\n",
      "     500 | 8.2911e-03 | 2.7326e-08 | 8.8152e-14 | 1.3167e-13 | 1.7542e-13\n"
     ]
    }
   ],
   "source": [
    "import numpy as np\n",
    "from numpy.polynomial.legendre import leggauss\n",
    "\n",
    "# Definir la función e^(-x^2)\n",
    "def f(x):\n",
    "    return np.exp(-x**2)\n",
    "\n",
    "# Función\n",
    "def gauss(f, L, n):\n",
    "    # Obtener los puntos y pesos de Gauss-Legendre en el intervalo [-1, 1]\n",
    "    xi, wi = leggauss(n)\n",
    "    \n",
    "    # Transformar los puntos xi al intervalo [0, L]\n",
    "    x_mapped = 0.5 * L * (xi + 1)\n",
    "    \n",
    "    # La integral se ajusta con el factor de escala L/2\n",
    "    integral = 0.5 * L * np.sum(wi * f(x_mapped))\n",
    "    \n",
    "    return integral\n",
    "\n",
    "# Función que calcula T(n, L)\n",
    "def T(n, L):\n",
    "    # Calcular la integral en el intervalo [0, L]\n",
    "    integral_value = gauss(f, L, n)\n",
    "    \n",
    "    # Multiplicar por 2 para obtener T(n, L)\n",
    "    return 2 * integral_value\n",
    "\n",
    "# Valor exacto de la integral\n",
    "valor_exacto = np.sqrt(np.pi)\n",
    "\n",
    "# Valores de n y L\n",
    "n_values = [100, 200, 300, 400, 500]\n",
    "L_values = [2, 4, 6, 8, 10]\n",
    "\n",
    "# Crear la tabla de resultados de T(n, L)\n",
    "print(\"Tabla de T(n, L):\")\n",
    "header = \"{:>8} | \".format(\"n \\\\ L\") + \" | \".join([f\"{L:>6}\" for L in L_values])\n",
    "separator = \"-\" * len(header)\n",
    "print(header)\n",
    "print(separator)\n",
    "\n",
    "# Calcular y mostrar T(n, L) para cada combinación\n",
    "T_values = {}\n",
    "for n in n_values:\n",
    "    row = [f\"{n:>8}\"]  # Comenzamos con el valor de n\n",
    "    for L in L_values:\n",
    "        result = T(n, L)\n",
    "        T_values[(n, L)] = result  # Guardamos los valores para la tabla de errores\n",
    "        row.append(f\"{result:>6.4f}\")  # Formatear el resultado\n",
    "    print(\" | \".join(row))\n",
    "\n",
    "#  tabla de errores\n",
    "print(\"\\nTabla de errores (|T(n, L) - sqrt(pi)|):\")\n",
    "print(header)\n",
    "print(separator)\n",
    "\n",
    "# Calcular y mostrar los errores para cada combinación\n",
    "for n in n_values:\n",
    "    row = [f\"{n:>8}\"]  # Comenzamos con el valor de n\n",
    "    for L in L_values:\n",
    "        error = abs(T_values[(n, L)] - valor_exacto)  # Error absoluto\n",
    "        row.append(f\"{error:>6.4e}\")  # Formatear el error en notación científica\n",
    "    print(\" | \".join(row))\n"
   ]
  }
 ],
 "metadata": {
  "kernelspec": {
   "display_name": "Python 3",
   "language": "python",
   "name": "python3"
  },
  "language_info": {
   "codemirror_mode": {
    "name": "ipython",
    "version": 3
   },
   "file_extension": ".py",
   "mimetype": "text/x-python",
   "name": "python",
   "nbconvert_exporter": "python",
   "pygments_lexer": "ipython3",
   "version": "3.10.5"
  }
 },
 "nbformat": 4,
 "nbformat_minor": 2
}
