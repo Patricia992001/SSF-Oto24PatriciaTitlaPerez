{
 "cells": [
  {
   "cell_type": "markdown",
   "metadata": {},
   "source": [
    "## **Evaluación de Cos(x)**"
   ]
  },
  {
   "cell_type": "markdown",
   "metadata": {},
   "source": [
    "Implementar la evaluación de $cos(x)$ mediante $i$ el cálculo de la serie directa, $ii$ computación parcial. Comparar la convergencia de las evaluaciones, para ello generar una tabla. Comience con una tolerancia de $10^4$. Repita con una tolerancia de $10^8$"
   ]
  },
  {
   "cell_type": "markdown",
   "metadata": {},
   "source": [
    "Importar libreria"
   ]
  },
  {
   "cell_type": "code",
   "execution_count": 1,
   "metadata": {},
   "outputs": [],
   "source": [
    "import math\n",
    "import pandas as pd"
   ]
  },
  {
   "cell_type": "markdown",
   "metadata": {},
   "source": [
    "*Parámetros*"
   ]
  },
  {
   "cell_type": "code",
   "execution_count": 2,
   "metadata": {},
   "outputs": [],
   "source": [
    "x = math.radians(50)  # 50 grados convertidos a radianes\n",
    "tolerancias = [1e-4, 1e-8]"
   ]
  },
  {
   "cell_type": "markdown",
   "metadata": {},
   "source": [
    "Serie directa usando la serie de Taylor"
   ]
  },
  {
   "cell_type": "code",
   "execution_count": 3,
   "metadata": {},
   "outputs": [],
   "source": [
    "def cos_direct(x, tol):\n",
    "    sum_cos = 0\n",
    "    term = 1  # Primer término de la serie\n",
    "    n = 0\n",
    "    while abs(term) > tol:\n",
    "        sum_cos += term\n",
    "        n += 1\n",
    "        term *= -x**2 / ((2*n-1)*(2*n))\n",
    "    return sum_cos"
   ]
  },
  {
   "cell_type": "markdown",
   "metadata": {},
   "source": [
    "Computación parcial"
   ]
  },
  {
   "cell_type": "code",
   "execution_count": 4,
   "metadata": {},
   "outputs": [],
   "source": [
    "def cos_partial(x, tol):\n",
    "    sum_cos = 0\n",
    "    term = 1  # Primer término de la serie\n",
    "    n = 0\n",
    "    while abs(term) > tol:\n",
    "        sum_cos += term\n",
    "        n += 1\n",
    "        term *= -x**2 / ((2*n-1)*(2*n))\n",
    "    return sum_cos"
   ]
  },
  {
   "cell_type": "code",
   "execution_count": 5,
   "metadata": {},
   "outputs": [
    {
     "name": "stdout",
     "output_type": "stream",
     "text": [
      "Tabla para tolerancia = 0.0001\n",
      "Serie Directa:\n",
      "          x  iteración      suma  |suma-cos(x)|/cos(x)\n",
      "0  0.872665          0  1.000000              0.555724\n",
      "1  0.872665          1  0.619228              0.036652\n",
      "2  0.872665          2  0.643393              0.000941\n",
      "3  0.872665          3  0.642779              0.000013\n",
      "\n",
      "Computación Parcial:\n",
      "          x  iteración      suma  |suma-cos(x)|/cos(x)\n",
      "0  0.872665          0  1.000000              0.555724\n",
      "1  0.872665          1  0.619228              0.036652\n",
      "2  0.872665          2  0.643393              0.000941\n",
      "3  0.872665          3  0.642779              0.000013\n",
      "\n",
      "========================================\n",
      "Tabla para tolerancia = 1e-08\n",
      "Serie Directa:\n",
      "          x  iteración      suma  |suma-cos(x)|/cos(x)\n",
      "0  0.872665          0  1.000000          5.557238e-01\n",
      "1  0.872665          1  0.619228          3.665190e-02\n",
      "2  0.872665          2  0.643393          9.414302e-04\n",
      "3  0.872665          3  0.642779          1.286832e-05\n",
      "4  0.872665          4  0.642788          1.091794e-07\n",
      "5  0.872665          5  0.642788          6.308831e-10\n",
      "\n",
      "Computación Parcial:\n",
      "          x  iteración      suma  |suma-cos(x)|/cos(x)\n",
      "0  0.872665          0  1.000000          5.557238e-01\n",
      "1  0.872665          1  0.619228          3.665190e-02\n",
      "2  0.872665          2  0.643393          9.414302e-04\n",
      "3  0.872665          3  0.642779          1.286832e-05\n",
      "4  0.872665          4  0.642788          1.091794e-07\n",
      "5  0.872665          5  0.642788          6.308831e-10\n",
      "\n",
      "========================================\n"
     ]
    }
   ],
   "source": [
    "# Tabla \n",
    "def create_table(x, tol):\n",
    "    data = []\n",
    "    sum_cos = 0\n",
    "    term = 1\n",
    "    n = 0\n",
    "    while abs(term) > tol:\n",
    "        sum_cos += term\n",
    "        error = abs(sum_cos - math.cos(x)) / abs(math.cos(x))\n",
    "        data.append([x, n, sum_cos, error])\n",
    "        n += 1\n",
    "        term *= -x**2 / ((2*n-1)*(2*n))\n",
    "    \n",
    "    df = pd.DataFrame(data, columns=['x', 'iteración', 'suma', '|suma-cos(x)|/cos(x)'])\n",
    "    return df\n",
    "\n",
    "\n",
    "\n",
    "# Tabla para cada tolerancia\n",
    "for tol in tolerancias:\n",
    "    print(f\"Tabla para tolerancia = {tol}\")\n",
    "    print(\"Serie Directa:\")\n",
    "    df_direct = create_table(x, tol)\n",
    "    print(df_direct)\n",
    "    \n",
    "    print(\"\\nComputación Parcial:\")\n",
    "    df_partial = create_table(x, tol)\n",
    "    print(df_partial)\n",
    "    \n",
    "    print(\"\\n\" + \"=\"*40)"
   ]
  }
 ],
 "metadata": {
  "kernelspec": {
   "display_name": "Python 3",
   "language": "python",
   "name": "python3"
  },
  "language_info": {
   "codemirror_mode": {
    "name": "ipython",
    "version": 3
   },
   "file_extension": ".py",
   "mimetype": "text/x-python",
   "name": "python",
   "nbconvert_exporter": "python",
   "pygments_lexer": "ipython3",
   "version": "3.10.5"
  }
 },
 "nbformat": 4,
 "nbformat_minor": 2
}
