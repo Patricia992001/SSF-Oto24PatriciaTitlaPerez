{
 "cells": [
  {
   "cell_type": "markdown",
   "metadata": {},
   "source": [
    "Patricia Titla Pérez \n",
    "\n",
    "\n",
    "Método de Horner. Ejemplo 2 \n",
    "\n",
    "$$P(x)= 3x^6 + x^5 - 12x^4 - 2x^3 + 5x^2 - 10x + 13$$\n",
    "en  $x=8$"
   ]
  },
  {
   "cell_type": "code",
   "execution_count": 1,
   "metadata": {},
   "outputs": [],
   "source": [
    "def poly_horner(A, x):\n",
    "    p = A[0] # A es una lista que contiene los coeficientes del polinomio en orden descendente\n",
    "    for i in range(1, len(A)): #secuencia que empieza desde 1, desde el termino independiente hasta el mayor grado en A \n",
    "        p = p * x + A[i] #Metodo de Horner. Actualiza el valor de p\n",
    "    return p #contiene el valor del polinomio evaluado en x "
   ]
  },
  {
   "cell_type": "code",
   "execution_count": 2,
   "metadata": {},
   "outputs": [],
   "source": [
    "A = [3, 1, -12, -2, + 5, -10, 13]  # Coeficientes del polinomio\n",
    "x = 8"
   ]
  },
  {
   "cell_type": "code",
   "execution_count": 3,
   "metadata": {},
   "outputs": [
    {
     "data": {
      "text/plain": [
       "769277"
      ]
     },
     "execution_count": 3,
     "metadata": {},
     "output_type": "execute_result"
    }
   ],
   "source": [
    "# Evaluamos el polinomio\n",
    "resultado = poly_horner(A, x)\n",
    "resultado"
   ]
  },
  {
   "cell_type": "code",
   "execution_count": 4,
   "metadata": {},
   "outputs": [
    {
     "name": "stdout",
     "output_type": "stream",
     "text": [
      "Ejemplo 2:\n",
      " P(x)= 3x^6 + x^5 - 12x^4 - 2x^3 + 5x^2 - x + 13\n",
      " P(8)=769277\n"
     ]
    }
   ],
   "source": [
    "print(\"Ejemplo 2:\")\n",
    "print(\" P(x)= 3x^6 + x^5 - 12x^4 - 2x^3 + 5x^2 - x + 13\")\n",
    "print(f\" P({x})={resultado}\")"
   ]
  }
 ],
 "metadata": {
  "kernelspec": {
   "display_name": "Python 3",
   "language": "python",
   "name": "python3"
  },
  "language_info": {
   "codemirror_mode": {
    "name": "ipython",
    "version": 3
   },
   "file_extension": ".py",
   "mimetype": "text/x-python",
   "name": "python",
   "nbconvert_exporter": "python",
   "pygments_lexer": "ipython3",
   "version": "3.10.5"
  }
 },
 "nbformat": 4,
 "nbformat_minor": 2
}
