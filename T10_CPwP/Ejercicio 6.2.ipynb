{
 "cells": [
  {
   "cell_type": "markdown",
   "metadata": {},
   "source": [
    "### Ejercicio 6.2: \n",
    "El problema consiste en calcular el volumen de una 4-esfera definido como:\n",
    "$x^2 + y^2 + z^2 + w^2 = r^2$\n",
    "utilizando el método de integración de Monte Carlo y estimar el valor del coeficiente \\(\\alpha\\) en la fórmula del volumen:\n",
    "$V = \\alpha \\pi r^4$."
   ]
  },
  {
   "cell_type": "code",
   "execution_count": 1,
   "metadata": {},
   "outputs": [
    {
     "name": "stdout",
     "output_type": "stream",
     "text": [
      "Volumen estimado de la 4-esfera: 4.918368\n",
      "Valor estimado de α: 1.565565\n",
      "Incertidumbre en el volumen: ±0.000007\n"
     ]
    }
   ],
   "source": [
    "import numpy as np\n",
    "\n",
    "# Número de puntos aleatorios\n",
    "N = 1000000\n",
    "r = 1  # Radio de la esfera\n",
    "\n",
    "# Contador de puntos dentro de la 4-esfera\n",
    "count = 0\n",
    "\n",
    "# Generar puntos aleatorios en el hipercubo [-r, r]^4\n",
    "for _ in range(N):\n",
    "    x, y, z, w = np.random.uniform(-r, r, 4)\n",
    "    if x**2 + y**2 + z**2 + w**2 <= r**2:\n",
    "        count += 1\n",
    "\n",
    "# Calcular el volumen estimado\n",
    "volumen_cubo = (2 * r)**4  # Volumen del hipercubo\n",
    "volumen_esfera = (count / N) * volumen_cubo\n",
    "\n",
    "# Estimar el valor de α en la fórmula V = απr^4\n",
    "alpha = volumen_esfera / (np.pi * r**4)\n",
    "\n",
    "# Calcular la incertidumbre\n",
    "error = volumen_cubo * np.sqrt(count * (N - count)) / (N**2)\n",
    "\n",
    "# Imprimir resultados\n",
    "print(f\"Volumen estimado de la 4-esfera: {volumen_esfera:.6f}\")\n",
    "print(f\"Valor estimado de α: {alpha:.6f}\")\n",
    "print(f\"Incertidumbre en el volumen: ±{error:.6f}\")\n"
   ]
  }
 ],
 "metadata": {
  "kernelspec": {
   "display_name": "Python 3",
   "language": "python",
   "name": "python3"
  },
  "language_info": {
   "codemirror_mode": {
    "name": "ipython",
    "version": 3
   },
   "file_extension": ".py",
   "mimetype": "text/x-python",
   "name": "python",
   "nbconvert_exporter": "python",
   "pygments_lexer": "ipython3",
   "version": "3.10.5"
  }
 },
 "nbformat": 4,
 "nbformat_minor": 2
}
