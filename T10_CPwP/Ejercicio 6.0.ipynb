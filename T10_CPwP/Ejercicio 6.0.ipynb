{
 "cells": [
  {
   "cell_type": "markdown",
   "metadata": {},
   "source": [
    "Calcule $\\int sin(x)dx$ desde $0$ hasta $\\pi$, utilizando técnicas de Monte Carlo. Reporte su incertidumbre en el resultado y compárelo con el resultado conocido."
   ]
  },
  {
   "cell_type": "code",
   "execution_count": 1,
   "metadata": {},
   "outputs": [
    {
     "name": "stdout",
     "output_type": "stream",
     "text": [
      "Resultado estimado: 1.998808 ± 0.000966\n",
      "Resultado exacto: 2.000000\n",
      "Diferencia: 0.001192\n"
     ]
    }
   ],
   "source": [
    "import numpy as np\n",
    "\n",
    "# Número de puntos aleatorios\n",
    "N = 1000000\n",
    "\n",
    "# Generar puntos aleatorios en el intervalo [0, π]\n",
    "x_random = np.pi * np.random.rand(N)\n",
    "\n",
    "# Evaluar sin(x) en los puntos aleatorios\n",
    "f_random = np.sin(x_random)\n",
    "\n",
    "# Calcular el valor estimado de la integral\n",
    "integral_estimada = np.pi * np.mean(f_random)\n",
    "\n",
    "# Calcular la incertidumbre estadística (desviación estándar de la media)\n",
    "error = np.pi * np.std(f_random) / np.sqrt(N)\n",
    "\n",
    "# Valor exacto de la integral\n",
    "integral_exacta = 2\n",
    "\n",
    "# Imprimir los resultados\n",
    "print(f\"Resultado estimado: {integral_estimada:.6f} ± {error:.6f}\")\n",
    "print(f\"Resultado exacto: {integral_exacta:.6f}\")\n",
    "print(f\"Diferencia: {abs(integral_exacta - integral_estimada):.6f}\")\n"
   ]
  }
 ],
 "metadata": {
  "kernelspec": {
   "display_name": "Python 3",
   "language": "python",
   "name": "python3"
  },
  "language_info": {
   "codemirror_mode": {
    "name": "ipython",
    "version": 3
   },
   "file_extension": ".py",
   "mimetype": "text/x-python",
   "name": "python",
   "nbconvert_exporter": "python",
   "pygments_lexer": "ipython3",
   "version": "3.10.5"
  }
 },
 "nbformat": 4,
 "nbformat_minor": 2
}
